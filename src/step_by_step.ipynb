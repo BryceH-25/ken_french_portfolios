{
 "cells": [
  {
   "cell_type": "markdown",
   "metadata": {},
   "source": [
    "# Task 1: Pulling Data from Ken French Website using `pandas_datareader`"
   ]
  },
  {
   "cell_type": "code",
   "execution_count": 1,
   "metadata": {},
   "outputs": [],
   "source": [
    "from pandas_datareader.famafrench import get_available_datasets\n",
    "import pandas_datareader.data as web"
   ]
  },
  {
   "cell_type": "markdown",
   "metadata": {},
   "source": [
    "We list the portfolios we seek to replicate, and build a function to systematically read in each of the testing datasets required to compare our replication results"
   ]
  },
  {
   "cell_type": "markdown",
   "metadata": {},
   "source": [
    "Each portfolio is constructed from different dates, so a parameter in our function is start/ end dates for what we should read in."
   ]
  },
  {
   "cell_type": "code",
   "execution_count": 6,
   "metadata": {},
   "outputs": [],
   "source": [
    "bivariate_ep = ('1951-07-01', '2023-12-31')\n",
    "bivariate_cfp = ('1951-07-01', '2023-12-31')\n",
    "bivariate_div = ('1927-07-01', '2023-12-31')\n",
    "op_inv = ('1963-07-01', '2023-12-31')\n",
    "industry = ('1926-07-01', '2023-12-31')\n",
    "\n",
    "portfolio_descriptions = {'6_Portfolios_ME_EP_2x3': bivariate_ep,\n",
    "                          '6_Portfolios_ME_EP_2x3_Wout_Div': bivariate_ep,\n",
    "                          '6_Portfolios_ME_CFP_2x3': bivariate_cfp,\n",
    "                          '6_Portfolios_ME_CFP_2x3_Wout_Div': bivariate_cfp,\n",
    "                          '6_Portfolios_ME_DP_2x3': bivariate_div,\n",
    "                          '6_Portfolios_ME_DP_2x3_Wout_Div': bivariate_div,\n",
    "                        #   '25_Portfolios_OP_INV_5x5': op_inv,\n",
    "                        #   '25_Portfolios_OP_INV_5x5_Wout_Div': op_inv,\n",
    "                        #   '25_Portfolios_OP_INV_5x5_daily': op_inv,\n",
    "                          '5_Industry_Portfolios': industry,\n",
    "                          '5_Industry_Portfolios_Wout_Div': industry,\n",
    "                          '5_Industry_Portfolios_daily': industry,\n",
    "                          '49_Industry_Portfolios': industry,\n",
    "                          '49_Industry_Portfolios_Wout_Div': industry,\n",
    "                          '49_Industry_Portfolios_daily': industry\n",
    "                          }"
   ]
  }
 ],
 "metadata": {
  "kernelspec": {
   "display_name": "finm",
   "language": "python",
   "name": "python3"
  },
  "language_info": {
   "codemirror_mode": {
    "name": "ipython",
    "version": 3
   },
   "file_extension": ".py",
   "mimetype": "text/x-python",
   "name": "python",
   "nbconvert_exporter": "python",
   "pygments_lexer": "ipython3",
   "version": "3.12.1"
  }
 },
 "nbformat": 4,
 "nbformat_minor": 2
}
