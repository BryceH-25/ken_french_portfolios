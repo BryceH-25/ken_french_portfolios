{
 "cells": [
  {
   "cell_type": "markdown",
   "metadata": {},
   "source": [
    "# Task 1: Pulling Data from Ken French Website using `pandas_datareader`"
   ]
  },
  {
   "cell_type": "code",
   "execution_count": 1,
   "metadata": {},
   "outputs": [],
   "source": [
    "from pandas_datareader.famafrench import get_available_datasets\n",
    "import pandas_datareader.data as web\n",
    "import sys\n",
    "sys.path.insert(0, '../src')\n",
    "from pull_raw_data import *\n",
    "from pull_test_data import *"
   ]
  },
  {
   "cell_type": "markdown",
   "metadata": {},
   "source": [
    "We list the portfolios we seek to replicate, and build a function to systematically read in each of the testing datasets required to compare our replication results"
   ]
  },
  {
   "cell_type": "markdown",
   "metadata": {},
   "source": [
    "Each portfolio is constructed from different dates, so a parameter in our function is start/ end dates for what we should read in."
   ]
  },
  {
   "cell_type": "code",
   "execution_count": 2,
   "metadata": {},
   "outputs": [
    {
     "name": "stdout",
     "output_type": "stream",
     "text": [
      "6 Portfolios ME EP 2x3\n",
      "----------------------\n",
      "\n",
      "This file was created by CMPT_ME_BEME_RETS using the 202312 CRSP database. It contains value- and equal-weighted returns for the intersections of 2 ME portfolios and 3 E/P portfolios. The portfolios are constructed at the end of Jun. ME is market cap at the end of Jun. E/P is is earnings before extraordinary at the last fiscal year end of the prior calendar year divided by ME at the end of December of the prior year. Firms with negative or zero E/P are not included in any portfolio. The annual returns are from January to December. Missing data are indicated by -99.99 or -999. The break points include utilities and include financials. The portfolios include utilities and include financials. Copyright 2023 Kenneth R. French\n",
      "\n",
      "  0 : Value Weight Average Returns -- Monthly (870 rows x 6 cols)\n",
      "  1 : Equal Weight Average Returns -- Monthly (870 rows x 6 cols)\n",
      "  2 : Value Weight Average Returns -- Annual (72 rows x 6 cols)\n",
      "  3 : Equal Weight Average Returns -- Annual (72 rows x 6 cols)\n",
      "  4 : Number of Firms in Portfolios (870 rows x 6 cols)\n",
      "  5 : Average Firm Size (870 rows x 6 cols)\n",
      "  6 : Value Weight Average of E/P when portfolio is formed (73 rows x 6 cols)\n"
     ]
    }
   ],
   "source": [
    "ports = list(portfolio_descriptions.keys())\n",
    "filepath = f'../data/famafrench/{ports[0]}.xlsx'\n",
    "descrip = pd.read_excel(filepath, sheet_name= 'Description')\n",
    "print(descrip['Description'][0])"
   ]
  },
  {
   "cell_type": "code",
   "execution_count": 3,
   "metadata": {},
   "outputs": [
    {
     "name": "stdout",
     "output_type": "stream",
     "text": [
      "6 Portfolios ME CFP 2x3\n",
      "-----------------------\n",
      "\n",
      "This file was created by CMPT_ME_BEME_RETS using the 202312 CRSP database. It contains value- and equal-weighted returns for the intersections of 2 ME portfolios and 3 CF/P portfolios. The portfolios are constructed at the end of Jun. ME is market cap at the end of Jun. CF/P is cashflow (earnings before extraordinary plus deferred tax income statement plus common equitys share of depreciation) at the last fiscal year end of the prior calendar year divided by ME at the end of December of the prior year. Firms with negative or zero CF/P are not included in any portfolio. The annual returns are from January to December. Missing data are indicated by -99.99 or -999. The break points include utilities and include financials. The portfolios include utilities and include financials. Copyright 2023 Kenneth R. French\n",
      "\n",
      "  0 : Value Weight Average Returns -- Monthly (870 rows x 6 cols)\n",
      "  1 : Equal Weight Average Returns -- Monthly (870 rows x 6 cols)\n",
      "  2 : Value Weight Average Returns -- Annual (72 rows x 6 cols)\n",
      "  3 : Equal Weight Average Returns -- Annual (72 rows x 6 cols)\n",
      "  4 : Number of Firms in Portfolios (870 rows x 6 cols)\n",
      "  5 : Average Firm Size (870 rows x 6 cols)\n",
      "  6 : Value Weight Average of CF/P when portfolio is formed (73 rows x 6 cols)\n"
     ]
    }
   ],
   "source": [
    "filepath = f'../data/famafrench/{ports[2]}.xlsx'\n",
    "descrip = pd.read_excel(filepath, sheet_name= 'Description')\n",
    "print(descrip['Description'][0])"
   ]
  },
  {
   "cell_type": "code",
   "execution_count": 4,
   "metadata": {},
   "outputs": [
    {
     "name": "stdout",
     "output_type": "stream",
     "text": [
      "6 Portfolios ME DP 2x3\n",
      "----------------------\n",
      "\n",
      "This file was created by CMPT_ME_BEME_RETS using the 202312 CRSP database. It contains value- and equal-weighted returns for the intersections of 2 ME portfolios and 3 D/P portfolios. The portfolios are constructed at the end of Jun. ME is market cap at the end of Jun. D/P is the total dividends paid from July of t-1 to June of t per dollar of equity in June of t. Firms with negative or zero D/P are not included in any portfolio. The annual returns are from January to December. Missing data are indicated by -99.99 or -999. The break points include utilities and include financials. The portfolios include utilities and include financials. Copyright 2023 Kenneth R. French\n",
      "\n",
      "  0 : Value Weight Average Returns -- Monthly (1158 rows x 6 cols)\n",
      "  1 : Equal Weight Average Returns -- Monthly (1158 rows x 6 cols)\n",
      "  2 : Value Weight Average Returns -- Annual (96 rows x 6 cols)\n",
      "  3 : Equal Weight Average Returns -- Annual (96 rows x 6 cols)\n",
      "  4 : Number of Firms in Portfolios (1158 rows x 6 cols)\n",
      "  5 : Average Firm Size (1158 rows x 6 cols)\n",
      "  6 : Value Weight Average of D/P when portfolio is formed (97 rows x 6 cols)\n"
     ]
    }
   ],
   "source": [
    "filepath = f'../data/famafrench/{ports[4]}.xlsx'\n",
    "descrip = pd.read_excel(filepath, sheet_name= 'Description')\n",
    "print(descrip['Description'][0])"
   ]
  },
  {
   "cell_type": "code",
   "execution_count": 5,
   "metadata": {},
   "outputs": [
    {
     "name": "stdout",
     "output_type": "stream",
     "text": [
      "5 Industry Portfolios\n",
      "---------------------\n",
      "\n",
      "This file was created by CMPT_IND_RETS using the 202312 CRSP database. It contains value- and equal-weighted returns for 5 industry portfolios. The portfolios are constructed at the end of June. The annual returns are from January to December. Missing data are indicated by -99.99 or -999. Copyright 2023 Kenneth R. French\n",
      "\n",
      "  0 : Average Value Weighted Returns -- Monthly (1170 rows x 5 cols)\n",
      "  1 : Average Equal Weighted Returns -- Monthly (1170 rows x 5 cols)\n",
      "  2 : Average Value Weighted Returns -- Annual (97 rows x 5 cols)\n",
      "  3 : Average Equal Weighted Returns -- Annual (97 rows x 5 cols)\n",
      "  4 : Number of Firms in Portfolios (1170 rows x 5 cols)\n",
      "  5 : Average Firm Size (1170 rows x 5 cols)\n",
      "  6 : Sum of BE / Sum of ME (98 rows x 5 cols)\n",
      "  7 : Value-Weighted Average of BE/ME (98 rows x 5 cols)\n"
     ]
    }
   ],
   "source": [
    "filepath = f'../data/famafrench/{ports[6]}.xlsx'\n",
    "descrip = pd.read_excel(filepath, sheet_name= 'Description')\n",
    "print(descrip['Description'][0])"
   ]
  },
  {
   "cell_type": "code",
   "execution_count": 6,
   "metadata": {},
   "outputs": [
    {
     "name": "stdout",
     "output_type": "stream",
     "text": [
      "49 Industry Portfolios\n",
      "----------------------\n",
      "\n",
      "This file was created by CMPT_IND_RETS using the 202312 CRSP database. It contains value- and equal-weighted returns for 49 industry portfolios. The portfolios are constructed at the end of June. The annual returns are from January to December. Missing data are indicated by -99.99 or -999. Copyright 2023 Kenneth R. French\n",
      "\n",
      "  0 : Average Value Weighted Returns -- Monthly (1170 rows x 49 cols)\n",
      "  1 : Average Equal Weighted Returns -- Monthly (1170 rows x 49 cols)\n",
      "  2 : Average Value Weighted Returns -- Annual (97 rows x 49 cols)\n",
      "  3 : Average Equal Weighted Returns -- Annual (97 rows x 49 cols)\n",
      "  4 : Number of Firms in Portfolios (1170 rows x 49 cols)\n",
      "  5 : Average Firm Size (1170 rows x 49 cols)\n",
      "  6 : Sum of BE / Sum of ME (98 rows x 49 cols)\n",
      "  7 : Value-Weighted Average of BE/ME (98 rows x 49 cols)\n"
     ]
    }
   ],
   "source": [
    "filepath = f'../data/famafrench/{ports[9]}.xlsx'\n",
    "descrip = pd.read_excel(filepath, sheet_name= 'Description')\n",
    "print(descrip['Description'][0])"
   ]
  },
  {
   "cell_type": "code",
   "execution_count": 11,
   "metadata": {},
   "outputs": [
    {
     "name": "stdout",
     "output_type": "stream",
     "text": [
      "This file was created by CMPT_ME_BEME_OP_INV_RETS using the 202312 CRSP database.\n",
      "It contains value- and equal-weighted returns for portfolios formed on OP and INV.\n",
      "\n",
      "The portfolios are constructed at the end of June. OP is operating profits (sales - cost\n",
      "of goods sold - selling, general and administrative expenses - interest expense) divided by book\n",
      "at the last fiscal year end of the prior calendar year. INV is the change\n",
      "in total assets from the fiscal year ending in year t-2 to the fiscal year ending in t-1,\n",
      "divided by t-2 total assets.\n",
      "Annual returns are from January to December.\n",
      "\n",
      "Missing data are indicated by -99.99 or -999.\n",
      "\n",
      "Please be aware that some of the value-weight averages of operating profitability for\n",
      "deciles 1 and 10 are extreme. These are driven by extraordinary values of OP for\n",
      "individual firms. We have spot checked the accounting data that produce the\n",
      "extraordinary values and all the numbers we examined accurately reflect the\n",
      "data in the firms accounting statements.\n",
      "\n",
      "The break points include utilities and include financials.\n",
      "\n",
      "The  portfolios  include utilities and include financials.\n",
      "\n",
      "         0:   Average Value Weighted Returns -- Monthly\n",
      "         1:   Average Equal Weighted Returns -- Monthly\n",
      "         2:   Average Value Weighted Returns -- Annual\n",
      "         3:   Average Equal Weighted Returns -- Annual\n",
      "         4:   Number of Firms in Portfolios\n",
      "         5:   Average Market Cap\n",
      "         6:   For portfolios formed in June of year t. \n",
      "              Value Weight Average of BE/ME Calculated for June of t to June of t+1 as:\n",
      "              Sum[ME(Mth) * BE(Fiscal Year t-1) / ME(Dec t-1)] / Sum[ME(Mth)]\n",
      "              Where Mth is a month from June of t to June of t+1 and BE(Fiscal Year t-1) is adjusted for net stock issuance to Dec t-1\n",
      "         7:   For portfolios formed in June of year t. \n",
      "              Value Weight Average of BE_FYt-1/ME_June t Calculated for June of t to June of t+1 as:\n",
      "              Sum[ME(Mth) * BE(Fiscal Year t-1) / ME(Jun t)] / Sum[ME(Mth)] \n",
      "              Where Mth is a month from June of t to June of t+1 \n",
      "              and BE(Fiscal Year t-1) is adjusted for net stock issuance to Jun t \n",
      "         8:   For portfolios formed in June of year t. \n",
      "              Value Weight Average of OP Calculated as: \n",
      "              Sum[ME(Mth) * OP(fiscal year t-1) / BE(fiscal year t-1)] / Sum[ME(Mth)]\n",
      "              Where Mth is a month from June of t to June of t+1 \n",
      "         9:   For portfolios formed in June of year t. \n",
      "              Value Weight Average of investment (rate of growth of assets) Calculated as: \n",
      "              Sum[ME(Mth) * Log(ASSET(t-1) / ASSET(t-2) / Sum[ME(Mth)]\n",
      "              Where Mth is a month from June of t to June of t+1   \n",
      "         \n",
      "IF DAILY\n",
      "         0:   Average Value Weighted Returns -- Daily\n",
      "         1:   Average Equal Weighted Returns -- Daily\n",
      "         2:   Number of Firms in Portfolios\n",
      "         3:   Average Firm Size\n",
      " \n"
     ]
    }
   ],
   "source": [
    "op_inv_keys = list(op_inv_ports.keys())\n",
    "filepath = f'../data/famafrench/{op_inv_keys[0]}.xlsx'\n",
    "descrip = pd.read_excel(filepath, sheet_name= 'Description')\n",
    "print(descrip['Description'][0])"
   ]
  },
  {
   "cell_type": "code",
   "execution_count": 1,
   "metadata": {},
   "outputs": [],
   "source": [
    "import pandas as pd"
   ]
  },
  {
   "cell_type": "code",
   "execution_count": 4,
   "metadata": {},
   "outputs": [
    {
     "data": {
      "text/html": [
       "<div>\n",
       "<style scoped>\n",
       "    .dataframe tbody tr th:only-of-type {\n",
       "        vertical-align: middle;\n",
       "    }\n",
       "\n",
       "    .dataframe tbody tr th {\n",
       "        vertical-align: top;\n",
       "    }\n",
       "\n",
       "    .dataframe thead th {\n",
       "        text-align: right;\n",
       "    }\n",
       "</style>\n",
       "<table border=\"1\" class=\"dataframe\">\n",
       "  <thead>\n",
       "    <tr style=\"text-align: right;\">\n",
       "      <th></th>\n",
       "      <th>gvkey</th>\n",
       "      <th>datadate</th>\n",
       "      <th>ni</th>\n",
       "      <th>oancf</th>\n",
       "      <th>epsfx</th>\n",
       "      <th>datadate_eom</th>\n",
       "    </tr>\n",
       "  </thead>\n",
       "  <tbody>\n",
       "    <tr>\n",
       "      <th>2</th>\n",
       "      <td>001000</td>\n",
       "      <td>1963-12-31</td>\n",
       "      <td>0.003</td>\n",
       "      <td>NaN</td>\n",
       "      <td>NaN</td>\n",
       "      <td>1963-12-31</td>\n",
       "    </tr>\n",
       "    <tr>\n",
       "      <th>3</th>\n",
       "      <td>001000</td>\n",
       "      <td>1964-12-31</td>\n",
       "      <td>0.052</td>\n",
       "      <td>NaN</td>\n",
       "      <td>NaN</td>\n",
       "      <td>1964-12-31</td>\n",
       "    </tr>\n",
       "    <tr>\n",
       "      <th>5</th>\n",
       "      <td>001000</td>\n",
       "      <td>1966-12-31</td>\n",
       "      <td>0.164</td>\n",
       "      <td>NaN</td>\n",
       "      <td>NaN</td>\n",
       "      <td>1966-12-31</td>\n",
       "    </tr>\n",
       "    <tr>\n",
       "      <th>7</th>\n",
       "      <td>001000</td>\n",
       "      <td>1968-12-31</td>\n",
       "      <td>0.463</td>\n",
       "      <td>NaN</td>\n",
       "      <td>1.06</td>\n",
       "      <td>1968-12-31</td>\n",
       "    </tr>\n",
       "    <tr>\n",
       "      <th>8</th>\n",
       "      <td>001000</td>\n",
       "      <td>1969-12-31</td>\n",
       "      <td>1.766</td>\n",
       "      <td>NaN</td>\n",
       "      <td>0.81</td>\n",
       "      <td>1969-12-31</td>\n",
       "    </tr>\n",
       "    <tr>\n",
       "      <th>...</th>\n",
       "      <td>...</td>\n",
       "      <td>...</td>\n",
       "      <td>...</td>\n",
       "      <td>...</td>\n",
       "      <td>...</td>\n",
       "      <td>...</td>\n",
       "    </tr>\n",
       "    <tr>\n",
       "      <th>66845</th>\n",
       "      <td>353444</td>\n",
       "      <td>2021-12-31</td>\n",
       "      <td>1882.199</td>\n",
       "      <td>1836.160</td>\n",
       "      <td>0.41</td>\n",
       "      <td>2021-12-31</td>\n",
       "    </tr>\n",
       "    <tr>\n",
       "      <th>66846</th>\n",
       "      <td>353444</td>\n",
       "      <td>2022-12-31</td>\n",
       "      <td>1277.194</td>\n",
       "      <td>2485.709</td>\n",
       "      <td>0.28</td>\n",
       "      <td>2022-12-31</td>\n",
       "    </tr>\n",
       "    <tr>\n",
       "      <th>66849</th>\n",
       "      <td>353945</td>\n",
       "      <td>2021-12-31</td>\n",
       "      <td>138.508</td>\n",
       "      <td>163.283</td>\n",
       "      <td>1.48</td>\n",
       "      <td>2021-12-31</td>\n",
       "    </tr>\n",
       "    <tr>\n",
       "      <th>66850</th>\n",
       "      <td>353945</td>\n",
       "      <td>2022-12-31</td>\n",
       "      <td>122.801</td>\n",
       "      <td>133.388</td>\n",
       "      <td>1.31</td>\n",
       "      <td>2022-12-31</td>\n",
       "    </tr>\n",
       "    <tr>\n",
       "      <th>66852</th>\n",
       "      <td>356128</td>\n",
       "      <td>2022-12-31</td>\n",
       "      <td>1264.809</td>\n",
       "      <td>2207.337</td>\n",
       "      <td>6.52</td>\n",
       "      <td>2022-12-31</td>\n",
       "    </tr>\n",
       "  </tbody>\n",
       "</table>\n",
       "<p>312194 rows × 6 columns</p>\n",
       "</div>"
      ],
      "text/plain": [
       "        gvkey   datadate        ni     oancf  epsfx datadate_eom\n",
       "2      001000 1963-12-31     0.003       NaN    NaN   1963-12-31\n",
       "3      001000 1964-12-31     0.052       NaN    NaN   1964-12-31\n",
       "5      001000 1966-12-31     0.164       NaN    NaN   1966-12-31\n",
       "7      001000 1968-12-31     0.463       NaN   1.06   1968-12-31\n",
       "8      001000 1969-12-31     1.766       NaN   0.81   1969-12-31\n",
       "...       ...        ...       ...       ...    ...          ...\n",
       "66845  353444 2021-12-31  1882.199  1836.160   0.41   2021-12-31\n",
       "66846  353444 2022-12-31  1277.194  2485.709   0.28   2022-12-31\n",
       "66849  353945 2021-12-31   138.508   163.283   1.48   2021-12-31\n",
       "66850  353945 2022-12-31   122.801   133.388   1.31   2022-12-31\n",
       "66852  356128 2022-12-31  1264.809  2207.337   6.52   2022-12-31\n",
       "\n",
       "[312194 rows x 6 columns]"
      ]
     },
     "execution_count": 4,
     "metadata": {},
     "output_type": "execute_result"
    }
   ],
   "source": [
    "pd.read_parquet('../data/pulled/Compustat_data.parquet')"
   ]
  },
  {
   "cell_type": "code",
   "execution_count": null,
   "metadata": {},
   "outputs": [],
   "source": []
  }
 ],
 "metadata": {
  "kernelspec": {
   "display_name": "finm",
   "language": "python",
   "name": "python3"
  },
  "language_info": {
   "codemirror_mode": {
    "name": "ipython",
    "version": 3
   },
   "file_extension": ".py",
   "mimetype": "text/x-python",
   "name": "python",
   "nbconvert_exporter": "python",
   "pygments_lexer": "ipython3",
   "version": "3.12.1"
  }
 },
 "nbformat": 4,
 "nbformat_minor": 2
}
