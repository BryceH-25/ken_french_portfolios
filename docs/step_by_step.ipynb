{
 "cells": [
  {
   "cell_type": "markdown",
   "metadata": {},
   "source": [
    "# Task 1: Pulling Data from Ken French Website using `pandas_datareader`"
   ]
  },
  {
   "cell_type": "code",
   "execution_count": 15,
   "metadata": {},
   "outputs": [],
   "source": [
    "from pandas_datareader.famafrench import get_available_datasets\n",
    "import pandas_datareader.data as web\n",
    "import sys\n",
    "sys.path.insert(0, '../src')\n",
    "from pull_raw_data import *\n",
    "from pull_test_data import *"
   ]
  },
  {
   "cell_type": "markdown",
   "metadata": {},
   "source": [
    "We list the portfolios we seek to replicate, and build a function to systematically read in each of the testing datasets required to compare our replication results"
   ]
  },
  {
   "cell_type": "markdown",
   "metadata": {},
   "source": [
    "Each portfolio is constructed from different dates, so a parameter in our function is start/ end dates for what we should read in."
   ]
  },
  {
   "cell_type": "code",
   "execution_count": 32,
   "metadata": {},
   "outputs": [
    {
     "name": "stdout",
     "output_type": "stream",
     "text": [
      "6 Portfolios ME EP 2x3\n",
      "----------------------\n",
      "\n",
      "This file was created by CMPT_ME_BEME_RETS using the 202312 CRSP database. It contains value- and equal-weighted returns for the intersections of 2 ME portfolios and 3 E/P portfolios. The portfolios are constructed at the end of Jun. ME is market cap at the end of Jun. E/P is is earnings before extraordinary at the last fiscal year end of the prior calendar year divided by ME at the end of December of the prior year. Firms with negative or zero E/P are not included in any portfolio. The annual returns are from January to December. Missing data are indicated by -99.99 or -999. The break points include utilities and include financials. The portfolios include utilities and include financials. Copyright 2023 Kenneth R. French\n",
      "\n",
      "  0 : Value Weight Average Returns -- Monthly (870 rows x 6 cols)\n",
      "  1 : Equal Weight Average Returns -- Monthly (870 rows x 6 cols)\n",
      "  2 : Value Weight Average Returns -- Annual (72 rows x 6 cols)\n",
      "  3 : Equal Weight Average Returns -- Annual (72 rows x 6 cols)\n",
      "  4 : Number of Firms in Portfolios (870 rows x 6 cols)\n",
      "  5 : Average Firm Size (870 rows x 6 cols)\n",
      "  6 : Value Weight Average of E/P when portfolio is formed (73 rows x 6 cols)\n"
     ]
    }
   ],
   "source": [
    "ports = list(portfolio_descriptions.keys())\n",
    "filepath = f'../data/famafrench/{ports[0]}.xlsx'\n",
    "descrip = pd.read_excel(filepath, sheet_name= 'Description')\n",
    "print(descrip['Description'][0])"
   ]
  },
  {
   "cell_type": "code",
   "execution_count": 34,
   "metadata": {},
   "outputs": [
    {
     "name": "stdout",
     "output_type": "stream",
     "text": [
      "6 Portfolios ME CFP 2x3\n",
      "-----------------------\n",
      "\n",
      "This file was created by CMPT_ME_BEME_RETS using the 202312 CRSP database. It contains value- and equal-weighted returns for the intersections of 2 ME portfolios and 3 CF/P portfolios. The portfolios are constructed at the end of Jun. ME is market cap at the end of Jun. CF/P is cashflow (earnings before extraordinary plus deferred tax income statement plus common equitys share of depreciation) at the last fiscal year end of the prior calendar year divided by ME at the end of December of the prior year. Firms with negative or zero CF/P are not included in any portfolio. The annual returns are from January to December. Missing data are indicated by -99.99 or -999. The break points include utilities and include financials. The portfolios include utilities and include financials. Copyright 2023 Kenneth R. French\n",
      "\n",
      "  0 : Value Weight Average Returns -- Monthly (870 rows x 6 cols)\n",
      "  1 : Equal Weight Average Returns -- Monthly (870 rows x 6 cols)\n",
      "  2 : Value Weight Average Returns -- Annual (72 rows x 6 cols)\n",
      "  3 : Equal Weight Average Returns -- Annual (72 rows x 6 cols)\n",
      "  4 : Number of Firms in Portfolios (870 rows x 6 cols)\n",
      "  5 : Average Firm Size (870 rows x 6 cols)\n",
      "  6 : Value Weight Average of CF/P when portfolio is formed (73 rows x 6 cols)\n"
     ]
    }
   ],
   "source": [
    "filepath = f'../data/famafrench/{ports[2]}.xlsx'\n",
    "descrip = pd.read_excel(filepath, sheet_name= 'Description')\n",
    "print(descrip['Description'][0])"
   ]
  },
  {
   "cell_type": "code",
   "execution_count": 35,
   "metadata": {},
   "outputs": [
    {
     "name": "stdout",
     "output_type": "stream",
     "text": [
      "6 Portfolios ME DP 2x3\n",
      "----------------------\n",
      "\n",
      "This file was created by CMPT_ME_BEME_RETS using the 202312 CRSP database. It contains value- and equal-weighted returns for the intersections of 2 ME portfolios and 3 D/P portfolios. The portfolios are constructed at the end of Jun. ME is market cap at the end of Jun. D/P is the total dividends paid from July of t-1 to June of t per dollar of equity in June of t. Firms with negative or zero D/P are not included in any portfolio. The annual returns are from January to December. Missing data are indicated by -99.99 or -999. The break points include utilities and include financials. The portfolios include utilities and include financials. Copyright 2023 Kenneth R. French\n",
      "\n",
      "  0 : Value Weight Average Returns -- Monthly (1158 rows x 6 cols)\n",
      "  1 : Equal Weight Average Returns -- Monthly (1158 rows x 6 cols)\n",
      "  2 : Value Weight Average Returns -- Annual (96 rows x 6 cols)\n",
      "  3 : Equal Weight Average Returns -- Annual (96 rows x 6 cols)\n",
      "  4 : Number of Firms in Portfolios (1158 rows x 6 cols)\n",
      "  5 : Average Firm Size (1158 rows x 6 cols)\n",
      "  6 : Value Weight Average of D/P when portfolio is formed (97 rows x 6 cols)\n"
     ]
    }
   ],
   "source": [
    "filepath = f'../data/famafrench/{ports[4]}.xlsx'\n",
    "descrip = pd.read_excel(filepath, sheet_name= 'Description')\n",
    "print(descrip['Description'][0])"
   ]
  },
  {
   "cell_type": "code",
   "execution_count": 37,
   "metadata": {},
   "outputs": [
    {
     "name": "stdout",
     "output_type": "stream",
     "text": [
      "5 Industry Portfolios\n",
      "---------------------\n",
      "\n",
      "This file was created by CMPT_IND_RETS using the 202312 CRSP database. It contains value- and equal-weighted returns for 5 industry portfolios. The portfolios are constructed at the end of June. The annual returns are from January to December. Missing data are indicated by -99.99 or -999. Copyright 2023 Kenneth R. French\n",
      "\n",
      "  0 : Average Value Weighted Returns -- Monthly (1170 rows x 5 cols)\n",
      "  1 : Average Equal Weighted Returns -- Monthly (1170 rows x 5 cols)\n",
      "  2 : Average Value Weighted Returns -- Annual (97 rows x 5 cols)\n",
      "  3 : Average Equal Weighted Returns -- Annual (97 rows x 5 cols)\n",
      "  4 : Number of Firms in Portfolios (1170 rows x 5 cols)\n",
      "  5 : Average Firm Size (1170 rows x 5 cols)\n",
      "  6 : Sum of BE / Sum of ME (98 rows x 5 cols)\n",
      "  7 : Value-Weighted Average of BE/ME (98 rows x 5 cols)\n"
     ]
    }
   ],
   "source": [
    "filepath = f'../data/famafrench/{ports[6]}.xlsx'\n",
    "descrip = pd.read_excel(filepath, sheet_name= 'Description')\n",
    "print(descrip['Description'][0])"
   ]
  },
  {
   "cell_type": "code",
   "execution_count": 40,
   "metadata": {},
   "outputs": [
    {
     "name": "stdout",
     "output_type": "stream",
     "text": [
      "49 Industry Portfolios\n",
      "----------------------\n",
      "\n",
      "This file was created by CMPT_IND_RETS using the 202312 CRSP database. It contains value- and equal-weighted returns for 49 industry portfolios. The portfolios are constructed at the end of June. The annual returns are from January to December. Missing data are indicated by -99.99 or -999. Copyright 2023 Kenneth R. French\n",
      "\n",
      "  0 : Average Value Weighted Returns -- Monthly (1170 rows x 49 cols)\n",
      "  1 : Average Equal Weighted Returns -- Monthly (1170 rows x 49 cols)\n",
      "  2 : Average Value Weighted Returns -- Annual (97 rows x 49 cols)\n",
      "  3 : Average Equal Weighted Returns -- Annual (97 rows x 49 cols)\n",
      "  4 : Number of Firms in Portfolios (1170 rows x 49 cols)\n",
      "  5 : Average Firm Size (1170 rows x 49 cols)\n",
      "  6 : Sum of BE / Sum of ME (98 rows x 49 cols)\n",
      "  7 : Value-Weighted Average of BE/ME (98 rows x 49 cols)\n"
     ]
    }
   ],
   "source": [
    "filepath = f'../data/famafrench/{ports[9]}.xlsx'\n",
    "descrip = pd.read_excel(filepath, sheet_name= 'Description')\n",
    "print(descrip['Description'][0])"
   ]
  },
  {
   "cell_type": "code",
   "execution_count": null,
   "metadata": {},
   "outputs": [],
   "source": []
  }
 ],
 "metadata": {
  "kernelspec": {
   "display_name": "finm",
   "language": "python",
   "name": "python3"
  },
  "language_info": {
   "codemirror_mode": {
    "name": "ipython",
    "version": 3
   },
   "file_extension": ".py",
   "mimetype": "text/x-python",
   "name": "python",
   "nbconvert_exporter": "python",
   "pygments_lexer": "ipython3",
   "version": "3.12.1"
  }
 },
 "nbformat": 4,
 "nbformat_minor": 2
}
